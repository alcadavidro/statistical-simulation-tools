{
 "cells": [
  {
   "cell_type": "markdown",
   "id": "c4e445d0-e902-4e47-a96e-1eb7538504fa",
   "metadata": {},
   "source": [
    "# Imports"
   ]
  },
  {
   "cell_type": "code",
   "execution_count": 1,
   "id": "6ad7dd5f-7466-4b7c-976c-f4fc0bc66c30",
   "metadata": {},
   "outputs": [
    {
     "ename": "ImportError",
     "evalue": "attempted relative import with no known parent package",
     "output_type": "error",
     "traceback": [
      "\u001b[0;31m---------------------------------------------------------------------------\u001b[0m",
      "\u001b[0;31mImportError\u001b[0m                               Traceback (most recent call last)",
      "Cell \u001b[0;32mIn[1], line 25\u001b[0m\n\u001b[1;32m     22\u001b[0m \u001b[38;5;28;01mfrom\u001b[39;00m \u001b[38;5;21;01mfitter\u001b[39;00m \u001b[38;5;28;01mimport\u001b[39;00m Fitter\n\u001b[1;32m     24\u001b[0m \u001b[38;5;28;01mfrom\u001b[39;00m \u001b[38;5;21;01mdistribution_fitter\u001b[39;00m \u001b[38;5;28;01mimport\u001b[39;00m \u001b[38;5;241m*\u001b[39m\n\u001b[0;32m---> 25\u001b[0m \u001b[38;5;28;01mfrom\u001b[39;00m \u001b[38;5;21;01mdistribution_validator\u001b[39;00m \u001b[38;5;28;01mimport\u001b[39;00m DistributionValidator\n\u001b[1;32m     26\u001b[0m \u001b[38;5;28;01mfrom\u001b[39;00m \u001b[38;5;21;01mutils\u001b[39;00m \u001b[38;5;28;01mimport\u001b[39;00m \u001b[38;5;241m*\u001b[39m\n\u001b[1;32m     27\u001b[0m \u001b[38;5;28;01mimport\u001b[39;00m \u001b[38;5;21;01mjson\u001b[39;00m\n",
      "File \u001b[0;32m~/Documents/personal_projects/consultancy/thanos_labropoulus/statistical-simulation-tools/distribution_validator.py:7\u001b[0m\n\u001b[1;32m      4\u001b[0m \u001b[38;5;28;01mimport\u001b[39;00m \u001b[38;5;21;01mnumpy\u001b[39;00m \u001b[38;5;28;01mas\u001b[39;00m \u001b[38;5;21;01mnp\u001b[39;00m\n\u001b[1;32m      5\u001b[0m \u001b[38;5;28;01mimport\u001b[39;00m \u001b[38;5;21;01mseaborn\u001b[39;00m \u001b[38;5;28;01mas\u001b[39;00m \u001b[38;5;21;01msns\u001b[39;00m\n\u001b[0;32m----> 7\u001b[0m \u001b[38;5;28;01mfrom\u001b[39;00m \u001b[38;5;21;01m.\u001b[39;00m\u001b[38;5;21;01mdistribution_fitter\u001b[39;00m \u001b[38;5;28;01mimport\u001b[39;00m DistributionFitter\n\u001b[1;32m     10\u001b[0m \u001b[38;5;28;01mclass\u001b[39;00m \u001b[38;5;21;01mDistributionValidator\u001b[39;00m:\n\u001b[1;32m     11\u001b[0m     \u001b[38;5;28;01mdef\u001b[39;00m \u001b[38;5;21mvalidate_goodness_of_fit\u001b[39m(\n\u001b[1;32m     12\u001b[0m         \u001b[38;5;28mcls\u001b[39m,\n\u001b[1;32m     13\u001b[0m         distribution_fitter: DistributionFitter,\n\u001b[0;32m   (...)\u001b[0m\n\u001b[1;32m     16\u001b[0m         \u001b[38;5;241m*\u001b[39m\u001b[38;5;241m*\u001b[39mkwargs\n\u001b[1;32m     17\u001b[0m     ) \u001b[38;5;241m-\u001b[39m\u001b[38;5;241m>\u001b[39m \u001b[38;5;28;01mNone\u001b[39;00m:\n",
      "\u001b[0;31mImportError\u001b[0m: attempted relative import with no known parent package"
     ]
    }
   ],
   "source": [
    "# Core\n",
    "import os\n",
    "import sys\n",
    "import ast\n",
    "import re\n",
    "import datetime as dt\n",
    "from typing import List, Dict, Tuple, Any, Optional, Union\n",
    "import logging\n",
    "from dataclasses import dataclass, field\n",
    "\n",
    "# Data analysis\n",
    "import numpy as np\n",
    "import pandas as pd\n",
    "\n",
    "# Visalization\n",
    "import matplotlib.pyplot as plt\n",
    "from matplotlib.figure import Figure\n",
    "import seaborn as sns\n",
    "\n",
    "# Fitting distributions\n",
    "import scipy.stats\n",
    "from fitter import Fitter\n",
    "\n",
    "from distribution_fitter import DistributionFitter\n",
    "from distribution_validator import DistributionValidator\n",
    "from utils import *\n",
    "import json"
   ]
  },
  {
   "cell_type": "code",
   "execution_count": null,
   "id": "cfd167e9-c615-461c-bfda-2005254863f9",
   "metadata": {},
   "outputs": [],
   "source": [
    "logging.basicConfig(level=logging.INFO)"
   ]
  },
  {
   "cell_type": "markdown",
   "id": "00d6dd8f-a0b8-46a4-ba93-16b3151cb912",
   "metadata": {},
   "source": [
    "# Reading the data"
   ]
  },
  {
   "cell_type": "code",
   "execution_count": null,
   "id": "88f2b2ab-27c3-4ef6-ac11-22835e15ef4f",
   "metadata": {},
   "outputs": [],
   "source": [
    "# Helper function to read all the historic dataframes from a path\n",
    "def read_files(path: str) -> pd.DataFrame:\n",
    "    files = os.listdir(path)\n",
    "    files = [os.path.join(path, file) for file in files if re.search(\".csv\", file)]\n",
    "    dfs = list(map(lambda file: pd.read_csv(file, low_memory=False), files))\n",
    "    return pd.concat(dfs)"
   ]
  },
  {
   "cell_type": "code",
   "execution_count": null,
   "id": "a09ee1c4-b110-41d4-8622-ea947489f0f1",
   "metadata": {},
   "outputs": [],
   "source": [
    "mlb_df = read_files(\"../data/MLB/\")"
   ]
  },
  {
   "cell_type": "code",
   "execution_count": null,
   "id": "8560df35-4d1f-4156-9c7f-2f9ad5bc330d",
   "metadata": {},
   "outputs": [],
   "source": [
    "mlb_df.columns"
   ]
  },
  {
   "cell_type": "code",
   "execution_count": null,
   "id": "ef1ae1c3-ea16-4c4f-95c0-963fed394081",
   "metadata": {},
   "outputs": [],
   "source": [
    "mlb_df.dtypes"
   ]
  },
  {
   "cell_type": "markdown",
   "id": "5e8fdf5c-4587-4851-9bdc-36709003ad60",
   "metadata": {},
   "source": [
    "# Cleaning data"
   ]
  },
  {
   "cell_type": "code",
   "execution_count": null,
   "id": "f57da1f8-38d7-4492-81db-102898901a92",
   "metadata": {},
   "outputs": [],
   "source": [
    "mlb_df.game_info__bigdataball_dataset.value_counts()"
   ]
  },
  {
   "cell_type": "code",
   "execution_count": null,
   "id": "880c5627-88ab-4058-9c8e-4cdf3e3e6f2f",
   "metadata": {},
   "outputs": [],
   "source": [
    "def with_season_type(game_type: str) -> str:\n",
    "    return \"regular-season\" if re.search(\"Season\", game_type) else \"playoffs\""
   ]
  },
  {
   "cell_type": "code",
   "execution_count": null,
   "id": "581ad028-2c36-4c5f-b755-5b03d8b73934",
   "metadata": {},
   "outputs": [],
   "source": [
    "def format_date(date_str: str) -> dt.datetime:\n",
    "    try:\n",
    "        _date = dt.datetime.strptime(date_str, \"%d/%m/%Y\")\n",
    "    except ValueError:\n",
    "        _date = dt.datetime.strptime(date_str, \"%m/%d/%Y\")\n",
    "    return _date"
   ]
  },
  {
   "cell_type": "code",
   "execution_count": null,
   "id": "2152beb2-70ba-4c41-8431-86a63a3c838b",
   "metadata": {},
   "outputs": [],
   "source": [
    "cleaned_mlb_df = mlb_df.assign(\n",
    "    game_info__date=pd.to_datetime(mlb_df.game_info__date.apply(format_date)),\n",
    "    fantasy_points__draftkings=mlb_df.fantasy_points__draftkings.apply(lambda s: float(str(s).replace(\",\",\".\"))),\n",
    "    fantasy_points__fanduel=mlb_df.fantasy_points__fanduel.apply(lambda s: float(str(s).replace(\",\",\".\"))),\n",
    "    fantasy_points__yahoo=mlb_df.fantasy_points__yahoo.apply(lambda s: float(str(s).replace(\",\",\".\"))),\n",
    "    game_info__game_type=mlb_df.game_info__bigdataball_dataset.apply(with_season_type)\n",
    ").pipe(lambda df: df.assign(\n",
    "    year=df['game_info__date'].dt.year\n",
    "))"
   ]
  },
  {
   "cell_type": "markdown",
   "id": "c89f9504-6916-4fe1-8f71-0aaab1860555",
   "metadata": {},
   "source": [
    "# Fitting distributions"
   ]
  },
  {
   "cell_type": "markdown",
   "id": "c3a0da4b-e48a-402b-9c8d-989b302e51b6",
   "metadata": {},
   "source": [
    "## By player"
   ]
  },
  {
   "cell_type": "code",
   "execution_count": null,
   "id": "1978234c-93f6-40de-b81a-f1d95e590872",
   "metadata": {},
   "outputs": [],
   "source": [
    "def get_frequencies(df: pd.DataFrame, groupby_keys: List[str]) -> pd.DataFrame:\n",
    "    frequency_df = df.groupby(groupby_keys).size().reset_index(name='frequency')\n",
    "    frequency_df = frequency_df.sort_values(by=['frequency'], ascending=False)\n",
    "    return frequency_df"
   ]
  },
  {
   "cell_type": "code",
   "execution_count": null,
   "id": "d56d4824-e72f-4ee0-b3aa-e6bf7cec3711",
   "metadata": {},
   "outputs": [],
   "source": [
    "def plot_distribution_by_variable(df: pd.DataFrame, variable: str, xlabel: str, ylabel: str) -> None:\n",
    "    \n",
    "    fig, ax = plt.subplots(ncols=2, figsize=(20, 6))\n",
    "    \n",
    "    sns.histplot(data=df, x=variable, kde=True, ax=ax[0])\n",
    "    ax[0].set_ylabel(ylabel)\n",
    "    ax[0].set_xlabel(xlabel)\n",
    "    \n",
    "    sns.boxplot(data=df, x=variable, orient='h', ax=ax[1])\n",
    "    sns.stripplot(data=df, x=variable, orient='h', color=\".25\", ax=ax[1])\n",
    "    \n",
    "    ax[1].tick_params(axis='y', which='both', left=False, top=False, labelleft=False)\n",
    "    ax[1].set_xlabel(xlabel)\n",
    "    \n",
    "    fig.suptitle(f'Distribution of: {xlabel.lower()} by {ylabel.lower()}')\n",
    "    \n",
    "    plt.plot();"
   ]
  },
  {
   "cell_type": "code",
   "execution_count": null,
   "id": "caf19adb-2218-4f85-a93a-00e5e12ffcde",
   "metadata": {},
   "outputs": [],
   "source": [
    "plot_distribution_by_variable(get_frequencies(cleaned_mlb_df, [\"player_info__player_id\"]), \"frequency\", \"Player - Appearances\", \"Frequency\")"
   ]
  },
  {
   "cell_type": "code",
   "execution_count": null,
   "id": "9422b097-60b1-4ebc-8147-1e81ded85d3f",
   "metadata": {},
   "outputs": [],
   "source": [
    "plot_distribution_by_variable(get_frequencies(cleaned_mlb_df, [\"player_info__player_name\"]), \"frequency\", \"Player - Appearances\", \"Frequency\")"
   ]
  },
  {
   "cell_type": "code",
   "execution_count": null,
   "id": "7fcc444f-3540-49d0-81a6-31c305942088",
   "metadata": {},
   "outputs": [],
   "source": [
    "games_per_date = cleaned_mlb_df[[\"game_info__game_type\", \"game_info__game_id\", \"game_info__date\"]].drop_duplicates()\\\n",
    ".groupby([\"game_info__date\", \"game_info__game_type\"])\\\n",
    ".size()\\\n",
    ".reset_index(name='frequency')\\\n",
    ".rename(columns={\"game_info__date\": \"date\", \"game_info__game_type\": \"game_type\"})\n",
    "\n",
    "fig, ax = plt.subplots(figsize=(20, 6))\n",
    "\n",
    "sns.lineplot(\n",
    "    data=games_per_date,\n",
    "    x=\"date\",\n",
    "    y=\"frequency\",\n",
    "    hue=\"game_type\",\n",
    "    ax=ax\n",
    ")\n",
    "\n",
    "plt.plot();"
   ]
  },
  {
   "cell_type": "code",
   "execution_count": null,
   "id": "248a5d86-6b3f-4f30-b954-847a72d75e6a",
   "metadata": {},
   "outputs": [],
   "source": [
    "def plot_histogram(\n",
    "    df: pd.DataFrame, \n",
    "    filter_column: str, \n",
    "    factor: Any, \n",
    "    value: str,\n",
    "    kde: bool = False\n",
    ") -> Figure:\n",
    "    fig, ax = plt.subplots(ncols=1, figsize=(16, 8))\n",
    "\n",
    "    sns.histplot(\n",
    "        data=df[\n",
    "        (df[filter_column] == factor) & (~df[value].isna())\n",
    "        ], \n",
    "        x=value, \n",
    "        kde=kde,\n",
    "        bins=100\n",
    "    )\n",
    "    ax.set_ylabel('Frecuency')\n",
    "    ax.set_xlabel(\" - \".join(value.split(\"__\")))\n",
    "\n",
    "    fig.suptitle(f'Distribution of: {value} by factor: {factor}')\n",
    "\n",
    "    return fig"
   ]
  },
  {
   "cell_type": "code",
   "execution_count": null,
   "id": "2fed64fd-798b-4a34-bee1-1e83ae7b8ba0",
   "metadata": {},
   "outputs": [],
   "source": [
    "fig = plot_histogram(cleaned_mlb_df, \"player_info__player_name\", \"Will Smith\", \"fantasy_points__draftkings\", True)"
   ]
  },
  {
   "cell_type": "markdown",
   "id": "d1daf83c-0c87-4a4f-83e9-4dd01f7d9694",
   "metadata": {},
   "source": [
    "## Position"
   ]
  },
  {
   "cell_type": "code",
   "execution_count": null,
   "id": "06b1bb4c-9a74-4f2c-9bc5-796cfd81d299",
   "metadata": {
    "scrolled": true
   },
   "outputs": [],
   "source": [
    "get_frequencies(cleaned_mlb_df, [\"position__fanduel\"])"
   ]
  },
  {
   "cell_type": "code",
   "execution_count": null,
   "id": "9005e977-47ad-4d18-be74-929112fc318b",
   "metadata": {},
   "outputs": [],
   "source": [
    "fig = plot_histogram(cleaned_mlb_df, \"position__fanduel\", \"P\", \"fantasy_points__fanduel\", True)"
   ]
  },
  {
   "cell_type": "code",
   "execution_count": null,
   "id": "043adc1f-5fed-4680-8494-6e1ac64bb6fd",
   "metadata": {},
   "outputs": [],
   "source": [
    "fig = plot_histogram(cleaned_mlb_df, \"position__fanduel\", \"OF\", \"fantasy_points__fanduel\", True)"
   ]
  },
  {
   "cell_type": "markdown",
   "id": "1ccd2a7b-f8f6-440f-a48b-8918c0650cc5",
   "metadata": {},
   "source": [
    "# Distributions fitting process"
   ]
  },
  {
   "cell_type": "markdown",
   "id": "7346ca67-debc-4162-a3e7-0d4f7338305b",
   "metadata": {},
   "source": [
    "## Fanduel for Pitchers"
   ]
  },
  {
   "cell_type": "code",
   "execution_count": null,
   "id": "bae9421d-459f-44d5-8bc4-b51fb7f862be",
   "metadata": {},
   "outputs": [],
   "source": [
    "cleaned_mlb_df.head()"
   ]
  },
  {
   "cell_type": "code",
   "execution_count": null,
   "id": "f6717fba-c1f7-4e07-97af-89ff9d45202e",
   "metadata": {},
   "outputs": [],
   "source": [
    "pitchers_df = cleaned_mlb_df[\n",
    "    (cleaned_mlb_df.position__draftkings == \"P\") & \n",
    "    (~cleaned_mlb_df['fantasy_points__fanduel'].isna())\n",
    "    ]"
   ]
  },
  {
   "cell_type": "code",
   "execution_count": null,
   "id": "08979cf0-a863-46b1-b18c-3c47a7fee285",
   "metadata": {},
   "outputs": [],
   "source": [
    "# Setting up style for better visualization\n",
    "sns.set(style=\"whitegrid\")\n",
    "\n",
    "# Plotting the histogram\n",
    "fig, ax = plt.subplots(ncols=2, figsize=(20, 6))\n",
    "\n",
    "sns.histplot(\n",
    "    data=pitchers_df, \n",
    "    x='fantasy_points__fanduel', \n",
    "    hue='game_info__game_type', \n",
    "    element='step', \n",
    "    stat='density', \n",
    "    common_norm=False, # Helps on visualization,\n",
    "    ax=ax[0]\n",
    ")\n",
    "\n",
    "ax[0].set_title(\"Histogram of Points over game types\")\n",
    "\n",
    "sns.histplot(\n",
    "    data=pitchers_df, \n",
    "    x='fantasy_points__fanduel', \n",
    "    element='step', \n",
    "    stat='density', \n",
    "    common_norm=False, # Helps on visualization,\n",
    "    ax=ax[1]\n",
    ")\n",
    "\n",
    "ax[1].set_title('Histogram of Points')\n",
    "\n",
    "plt.show()"
   ]
  },
  {
   "cell_type": "markdown",
   "id": "7772f943-f737-4750-ae39-c6cc5ff437f8",
   "metadata": {},
   "source": [
    "### Adding more variables for categorizing players and don't assume a general distribution"
   ]
  },
  {
   "cell_type": "code",
   "execution_count": null,
   "id": "ff6ee8bc-3372-4808-af53-1550027c1d10",
   "metadata": {},
   "outputs": [],
   "source": [
    "statistics_by_pitcher = pitchers_df\\\n",
    ".groupby('player_info__player_id')\\\n",
    ".agg(number_of_observations=pd.NamedAgg(\"player_info__player_id\", \"count\"))\\\n",
    ".sort_values(by=['number_of_observations'])\\\n",
    ".pipe(lambda df: df.assign(\n",
    "    cumsum_observations=df.number_of_observations.cumsum(), \n",
    "    total_observations=df.number_of_observations.sum()\n",
    "))\\\n",
    ".pipe(lambda df: df.assign(\n",
    "    cumulative_proportion=(df.cumsum_observations / df.total_observations) * 100))\\\n",
    ".reset_index()\\\n",
    ".pipe(lambda df: df.assign(\n",
    "    decile_group=pd.cut(df.cumulative_proportion, bins=[0, 10, 20, 30, 40, 50, 60, 70, 80, 90, 100]).astype(\"str\")\n",
    "))"
   ]
  },
  {
   "cell_type": "code",
   "execution_count": null,
   "id": "9bda4f1a-0b4c-4c01-bc81-84c99fc67799",
   "metadata": {},
   "outputs": [],
   "source": [
    "pitchers_df = pitchers_df.merge(right=statistics_by_pitcher)"
   ]
  },
  {
   "cell_type": "code",
   "execution_count": null,
   "id": "11c25b86-1401-406d-a18b-d6f64b52712d",
   "metadata": {},
   "outputs": [],
   "source": [
    "pitchers_df.head()"
   ]
  },
  {
   "cell_type": "code",
   "execution_count": null,
   "id": "c2fe613f-7a67-42b9-a681-4d37be29a4ea",
   "metadata": {},
   "outputs": [],
   "source": [
    "fig, ax = plt.subplots(nrows=2, figsize=(20, 12))\n",
    "\n",
    "sns.kdeplot(\n",
    "    data=pitchers_df, \n",
    "    x='fantasy_points__fanduel', \n",
    "    hue='decile_group', \n",
    "    common_norm=False,\n",
    "    ax=ax[0],\n",
    ")\n",
    "\n",
    "ax[0].set_title('Distribution of Fanduel points by Decile of appereances')\n",
    "\n",
    "sns.histplot(\n",
    "    data=pitchers_df, \n",
    "    x='fantasy_points__fanduel', \n",
    "    element='step', \n",
    "    stat='density', \n",
    "    hue='decile_group', \n",
    "    common_norm=False, # Helps on visualization,\n",
    "    ax=ax[1]\n",
    ")\n",
    "\n",
    "ax[1].set_title('Histogram of Fanduel points by Decile of appereances')\n",
    "\n",
    "plt.show()"
   ]
  },
  {
   "cell_type": "markdown",
   "id": "bf82fabd-7922-4bf5-978f-602a0db3be90",
   "metadata": {},
   "source": [
    "### Fitting a general distribution for all the population of pitchers"
   ]
  },
  {
   "cell_type": "markdown",
   "id": "8047d13b-32b9-49d2-8dd1-2aaed0292502",
   "metadata": {},
   "source": [
    "#### Fitting"
   ]
  },
  {
   "cell_type": "code",
   "execution_count": null,
   "id": "421f09a0-067c-44d6-8ef0-87b93b54fc4e",
   "metadata": {},
   "outputs": [],
   "source": [
    "data = pitchers_df['fantasy_points__fanduel']"
   ]
  },
  {
   "cell_type": "code",
   "execution_count": null,
   "id": "0e84e1b4-ecf0-44be-b6fe-3dad5fa6bf9a",
   "metadata": {},
   "outputs": [],
   "source": [
    "pitchers_distribution_fitter = DistributionFitter(\n",
    "    distributions=[dist for dist in get_distributions() if dist not in [\"levy_stable\", \"studentized_range\", \"erlang\", \"lognorm\", \"loguniform\"]], \n",
    "    bins=sturges_bins(data)\n",
    ")"
   ]
  },
  {
   "cell_type": "code",
   "execution_count": null,
   "id": "31015810-04ad-4e16-ab60-75841adaec7b",
   "metadata": {
    "scrolled": true
   },
   "outputs": [],
   "source": [
    "pitchers_distribution_fitter.fit(data)"
   ]
  },
  {
   "cell_type": "code",
   "execution_count": null,
   "id": "04cc94a3-1ce1-4be9-bc16-936af8413639",
   "metadata": {},
   "outputs": [],
   "source": [
    "pitchers_distribution_fitter.summary(sort_by=\"ks_statistic\", top_n=10)"
   ]
  },
  {
   "cell_type": "markdown",
   "id": "0322c08e-7e8c-4fec-8425-f5545567920c",
   "metadata": {},
   "source": [
    "#### Validation"
   ]
  },
  {
   "cell_type": "code",
   "execution_count": null,
   "id": "e9a7835a-214f-42ed-97cd-fdc79a958b28",
   "metadata": {},
   "outputs": [],
   "source": [
    "DistributionValidator().validate_goodness_of_fit(\n",
    "    distribution_fitter=pitchers_distribution_fitter, \n",
    "    distribution_name=\"johnsonsu\", \n",
    "    sample_proportion=0.02, \n",
    "    suptitle=\"Goodness of Fit for overall data of pitchers - johnsonsu distribution\"\n",
    ")"
   ]
  },
  {
   "cell_type": "code",
   "execution_count": null,
   "id": "a8f8ac21-1f60-478d-a251-a18990650971",
   "metadata": {},
   "outputs": [],
   "source": [
    "DistributionValidator().validate_goodness_of_fit(\n",
    "    distribution_fitter=pitchers_distribution_fitter, \n",
    "    distribution_name=\"norminvgauss\", \n",
    "    sample_proportion=0.02, \n",
    "    suptitle=\"Goodness of Fit for overall data of pitchers - norminvgauss distribution\"\n",
    ")"
   ]
  },
  {
   "cell_type": "code",
   "execution_count": null,
   "id": "fa0de41b-7749-44af-928a-83f06cd1006c",
   "metadata": {},
   "outputs": [],
   "source": [
    "DistributionValidator().validate_goodness_of_fit(\n",
    "    distribution_fitter=pitchers_distribution_fitter, \n",
    "    distribution_name=\"genhyperbolic\", \n",
    "    sample_proportion=0.02, \n",
    "    suptitle=\"Goodness of Fit for overall data of pitchers - genhyperbolic distribution\"\n",
    ")"
   ]
  },
  {
   "cell_type": "code",
   "execution_count": null,
   "id": "406d7504-1776-4468-bf6c-e096e46538f9",
   "metadata": {},
   "outputs": [],
   "source": [
    "DistributionValidator().validate_goodness_of_fit(\n",
    "    distribution_fitter=pitchers_distribution_fitter, \n",
    "    distribution_name=\"exponnorm\", \n",
    "    sample_proportion=0.02, \n",
    "    suptitle=\"Goodness of Fit for overall data of pitchers - exponnorm distribution\"\n",
    ")"
   ]
  },
  {
   "cell_type": "markdown",
   "id": "1ee41c02-f7e2-49f4-a1cc-95ad9114e111",
   "metadata": {},
   "source": [
    "### Fitting a distribution by decile"
   ]
  },
  {
   "cell_type": "markdown",
   "id": "308df9b7-5054-4436-b462-06ecda3f74e7",
   "metadata": {},
   "source": [
    "#### Fitting"
   ]
  },
  {
   "cell_type": "code",
   "execution_count": null,
   "id": "84837d7c-ae41-4103-8141-a8ea88da138d",
   "metadata": {
    "scrolled": true
   },
   "outputs": [],
   "source": [
    "deciles_groups = pitchers_df.decile_group.unique()\n",
    "\n",
    "fitters = {}\n",
    "\n",
    "for decile_group in deciles_groups:\n",
    "\n",
    "    filtered_data = pitchers_df[pitchers_df.decile_group == decile_group]['fantasy_points__fanduel']\n",
    "    \n",
    "    fitter = DistributionFitter(\n",
    "        distributions=[dist for dist in get_distributions() if dist not in [\"levy_stable\", \"studentized_range\", \"erlang\", \"lognorm\", \"loguniform\"]],\n",
    "        bins=sturges_bins(filtered_data)\n",
    "    )\n",
    "\n",
    "    fitter.fit(filtered_data)\n",
    "    logger.info(f\"fitting {decile_group}\")\n",
    "    fitters[decile_group] = fitter"
   ]
  },
  {
   "cell_type": "markdown",
   "id": "3928c01f-2bd1-4c0c-b5d0-7cd90561b452",
   "metadata": {},
   "source": [
    "#### Validation"
   ]
  },
  {
   "cell_type": "markdown",
   "id": "626672a2-c9d4-4bed-81f7-027d04d3deaa",
   "metadata": {},
   "source": [
    "##### **Decile 10%**"
   ]
  },
  {
   "cell_type": "code",
   "execution_count": null,
   "id": "7afd9974-169f-4be6-b707-840c49626073",
   "metadata": {},
   "outputs": [],
   "source": [
    "fitters['(0, 10]'].summary(sort_by=\"ks_statistic\", top_n=10)"
   ]
  },
  {
   "cell_type": "code",
   "execution_count": null,
   "id": "1553c4c5-d389-40dc-8b5f-23f64b535c67",
   "metadata": {},
   "outputs": [],
   "source": [
    "DistributionValidator().validate_goodness_of_fit(\n",
    "    distribution_fitter=fitters['(0, 10]'], \n",
    "    distribution_name=\"johnsonsu\", \n",
    "    sample_proportion=0.1, \n",
    "    suptitle=\"Goodness of Fit for overall data of pitchers - Decile 10% with johnsonsu distribution\"\n",
    ")"
   ]
  },
  {
   "cell_type": "code",
   "execution_count": null,
   "id": "a60c2f21-d20d-4bc6-8525-448204eb4cbe",
   "metadata": {},
   "outputs": [],
   "source": [
    "DistributionValidator().validate_goodness_of_fit(\n",
    "    distribution_fitter=fitters['(0, 10]'], \n",
    "    distribution_name=\"norminvgauss\", \n",
    "    sample_proportion=0.1, \n",
    "    suptitle=\"Goodness of Fit for overall data of pitchers - Decile 10% with norminvgauss distribution\"\n",
    ")"
   ]
  },
  {
   "cell_type": "code",
   "execution_count": null,
   "id": "9e27e1b9-8e7e-4276-9042-49aa2e8d0617",
   "metadata": {},
   "outputs": [],
   "source": [
    "DistributionValidator().validate_goodness_of_fit(\n",
    "    distribution_fitter=fitters['(0, 10]'], \n",
    "    distribution_name=\"exponnorm\", \n",
    "    sample_proportion=0.1, \n",
    "    suptitle=\"Goodness of Fit for overall data of pitchers - Decile 10% with exponnorm distribution\"\n",
    ")"
   ]
  },
  {
   "cell_type": "markdown",
   "id": "043a181b-32aa-44d4-b4d2-fe24ce528b65",
   "metadata": {},
   "source": [
    "##### **Decile 20%**"
   ]
  },
  {
   "cell_type": "code",
   "execution_count": null,
   "id": "deae0389-7a28-4815-8dca-d01183736b52",
   "metadata": {},
   "outputs": [],
   "source": [
    "fitters['(10, 20]'].summary(sort_by=\"ks_statistic\", top_n=10)"
   ]
  },
  {
   "cell_type": "code",
   "execution_count": null,
   "id": "a773cc97-1bf9-4ad5-a247-e94133234077",
   "metadata": {},
   "outputs": [],
   "source": [
    "DistributionValidator().validate_goodness_of_fit(\n",
    "    distribution_fitter=fitters['(10, 20]'], \n",
    "    distribution_name=\"genhyperbolic\", \n",
    "    sample_proportion=0.1, \n",
    "    suptitle=\"Goodness of Fit for overall data of pitchers - Decile 20% with genhyperbolic distribution\"\n",
    ")"
   ]
  },
  {
   "cell_type": "code",
   "execution_count": null,
   "id": "ec2756f2-24b7-4f6b-8a45-e9f6267b5931",
   "metadata": {},
   "outputs": [],
   "source": [
    "DistributionValidator().validate_goodness_of_fit(\n",
    "    distribution_fitter=fitters['(10, 20]'], \n",
    "    distribution_name=\"norminvgauss\", \n",
    "    sample_proportion=0.1, \n",
    "    suptitle=\"Goodness of Fit for overall data of pitchers - Decile 20% with norminvgauss distribution\"\n",
    ")"
   ]
  },
  {
   "cell_type": "code",
   "execution_count": null,
   "id": "f85c0f2e-a7c7-468f-ae62-52e33244a0b4",
   "metadata": {},
   "outputs": [],
   "source": [
    "DistributionValidator().validate_goodness_of_fit(\n",
    "    distribution_fitter=fitters['(10, 20]'], \n",
    "    distribution_name=\"johnsonsu\", \n",
    "    sample_proportion=0.1, \n",
    "    suptitle=\"Goodness of Fit for overall data of pitchers - Decile 20% with johnsonsu distribution\"\n",
    ")"
   ]
  },
  {
   "cell_type": "code",
   "execution_count": null,
   "id": "10040da2-bc25-463c-b7b2-4445c1ab6ec9",
   "metadata": {},
   "outputs": [],
   "source": [
    "DistributionValidator().validate_goodness_of_fit(\n",
    "    distribution_fitter=fitters['(10, 20]'], \n",
    "    distribution_name=\"exponnorm\", \n",
    "    sample_proportion=0.1, \n",
    "    suptitle=\"Goodness of Fit for overall data of pitchers - Decile 20% with exponnorm distribution\"\n",
    ")"
   ]
  },
  {
   "cell_type": "markdown",
   "id": "5b7e983c-6ee6-4cbe-abdb-df48e8789786",
   "metadata": {},
   "source": [
    "##### **Decile 30%**"
   ]
  },
  {
   "cell_type": "code",
   "execution_count": null,
   "id": "27b6b494-627d-4cef-a6b9-e91c316e03f5",
   "metadata": {},
   "outputs": [],
   "source": [
    "fitters['(20, 30]'].summary(sort_by=\"ks_statistic\", top_n=10)"
   ]
  },
  {
   "cell_type": "code",
   "execution_count": null,
   "id": "e225b0f1-348c-4e82-9e33-340339a8b51c",
   "metadata": {},
   "outputs": [],
   "source": [
    "DistributionValidator().validate_goodness_of_fit(\n",
    "    distribution_fitter=fitters['(20, 30]'], \n",
    "    distribution_name=\"genhyperbolic\", \n",
    "    sample_proportion=0.1, \n",
    "    suptitle=\"Goodness of Fit for overall data of pitchers - Decile 30% with genhyperbolic distribution\"\n",
    ")"
   ]
  },
  {
   "cell_type": "code",
   "execution_count": null,
   "id": "388ac8c6-07a4-44c8-99f2-0ac444e6776e",
   "metadata": {},
   "outputs": [],
   "source": [
    "DistributionValidator().validate_goodness_of_fit(\n",
    "    distribution_fitter=fitters['(20, 30]'], \n",
    "    distribution_name=\"norminvgauss\", \n",
    "    sample_proportion=0.1, \n",
    "    suptitle=\"Goodness of Fit for overall data of pitchers - Decile 30% with norminvgauss distribution\"\n",
    ")"
   ]
  },
  {
   "cell_type": "code",
   "execution_count": null,
   "id": "9113bea2-6792-4e13-901b-a2faaba2c935",
   "metadata": {},
   "outputs": [],
   "source": [
    "DistributionValidator().validate_goodness_of_fit(\n",
    "    distribution_fitter=fitters['(20, 30]'], \n",
    "    distribution_name=\"johnsonsu\", \n",
    "    sample_proportion=0.1, \n",
    "    suptitle=\"Goodness of Fit for overall data of pitchers - Decile 30% with johnsonsu distribution\"\n",
    ")"
   ]
  },
  {
   "cell_type": "code",
   "execution_count": null,
   "id": "72e904c6-9675-4765-8564-4757b9752765",
   "metadata": {},
   "outputs": [],
   "source": [
    "DistributionValidator().validate_goodness_of_fit(\n",
    "    distribution_fitter=fitters['(20, 30]'], \n",
    "    distribution_name=\"exponnorm\", \n",
    "    sample_proportion=0.1, \n",
    "    suptitle=\"Goodness of Fit for overall data of pitchers - Decile 30% with exponnorm distribution\"\n",
    ")"
   ]
  },
  {
   "cell_type": "markdown",
   "id": "2fffcaf2-ff0d-42b4-8146-4fa3c61b4932",
   "metadata": {},
   "source": [
    "##### **Decile 40%**"
   ]
  },
  {
   "cell_type": "code",
   "execution_count": null,
   "id": "91cae43d-7e08-45ac-9b44-a2b25e805d17",
   "metadata": {},
   "outputs": [],
   "source": [
    "fitters['(30, 40]'].summary(sort_by=\"ks_statistic\", top_n=10)"
   ]
  },
  {
   "cell_type": "code",
   "execution_count": null,
   "id": "c2bd3d92-96a3-4af4-968f-f745cb5efa14",
   "metadata": {},
   "outputs": [],
   "source": [
    "DistributionValidator().validate_goodness_of_fit(\n",
    "    distribution_fitter=fitters['(30, 40]'], \n",
    "    distribution_name=\"genhyperbolic\", \n",
    "    sample_proportion=0.1, \n",
    "    suptitle=\"Goodness of Fit for overall data of pitchers - Decile 40% with genhyperbolic distribution\"\n",
    ")"
   ]
  },
  {
   "cell_type": "code",
   "execution_count": null,
   "id": "7ca0d584-fc2e-403b-b74a-a3029d713e0d",
   "metadata": {},
   "outputs": [],
   "source": [
    "DistributionValidator().validate_goodness_of_fit(\n",
    "    distribution_fitter=fitters['(30, 40]'], \n",
    "    distribution_name=\"norminvgauss\", \n",
    "    sample_proportion=0.1, \n",
    "    suptitle=\"Goodness of Fit for overall data of pitchers - Decile 40% with norminvgauss distribution\"\n",
    ")"
   ]
  },
  {
   "cell_type": "code",
   "execution_count": null,
   "id": "4740271c-a2a1-4bec-a5ad-a77c7bf7065b",
   "metadata": {},
   "outputs": [],
   "source": [
    "DistributionValidator().validate_goodness_of_fit(\n",
    "    distribution_fitter=fitters['(30, 40]'], \n",
    "    distribution_name=\"johnsonsu\", \n",
    "    sample_proportion=0.1, \n",
    "    suptitle=\"Goodness of Fit for overall data of pitchers - Decile 40% with johnsonsu distribution\"\n",
    ")"
   ]
  },
  {
   "cell_type": "code",
   "execution_count": null,
   "id": "7b0ad0f4-e0ac-42cd-9897-e710870533a8",
   "metadata": {},
   "outputs": [],
   "source": [
    "DistributionValidator().validate_goodness_of_fit(\n",
    "    distribution_fitter=fitters['(30, 40]'], \n",
    "    distribution_name=\"exponnorm\", \n",
    "    sample_proportion=0.1, \n",
    "    suptitle=\"Goodness of Fit for overall data of pitchers - Decile 40% with exponnorm distribution\"\n",
    ")"
   ]
  },
  {
   "cell_type": "markdown",
   "id": "b220e99a-7425-409a-acf6-2b5e1acd3b6d",
   "metadata": {},
   "source": [
    "##### **Decile 50%**"
   ]
  },
  {
   "cell_type": "code",
   "execution_count": null,
   "id": "5adc968b-2627-43d4-9434-b9c5cfeee2af",
   "metadata": {},
   "outputs": [],
   "source": [
    "fitters['(40, 50]'].summary(sort_by=\"ks_statistic\", top_n=10)"
   ]
  },
  {
   "cell_type": "code",
   "execution_count": null,
   "id": "78950416-aee0-414d-85bd-e6c932df5886",
   "metadata": {},
   "outputs": [],
   "source": [
    "DistributionValidator().validate_goodness_of_fit(\n",
    "    distribution_fitter=fitters['(40, 50]'], \n",
    "    distribution_name=\"norminvgauss\", \n",
    "    sample_proportion=0.1, \n",
    "    suptitle=\"Goodness of Fit for overall data of pitchers - Decile 50% with norminvgauss distribution\"\n",
    ")"
   ]
  },
  {
   "cell_type": "code",
   "execution_count": null,
   "id": "615e1505-584d-4ef1-ade5-ca8f194daea2",
   "metadata": {},
   "outputs": [],
   "source": [
    "DistributionValidator().validate_goodness_of_fit(\n",
    "    distribution_fitter=fitters['(40, 50]'], \n",
    "    distribution_name=\"johnsonsu\", \n",
    "    sample_proportion=0.1, \n",
    "    suptitle=\"Goodness of Fit for overall data of pitchers - Decile 50% with johnsonsu distribution\"\n",
    ")"
   ]
  },
  {
   "cell_type": "code",
   "execution_count": null,
   "id": "2931d23f-0918-42de-a2ca-d8708d02d097",
   "metadata": {},
   "outputs": [],
   "source": [
    "DistributionValidator().validate_goodness_of_fit(\n",
    "    distribution_fitter=fitters['(40, 50]'], \n",
    "    distribution_name=\"exponnorm\", \n",
    "    sample_proportion=0.1, \n",
    "    suptitle=\"Goodness of Fit for overall data of pitchers - Decile 50% with exponnorm distribution\"\n",
    ")"
   ]
  },
  {
   "cell_type": "markdown",
   "id": "09a77f46-f2f5-4208-a0be-9c3f7c6f0319",
   "metadata": {},
   "source": [
    "##### **Decile 60%**"
   ]
  },
  {
   "cell_type": "code",
   "execution_count": null,
   "id": "194c6193-36a9-41e6-ba39-6bd85fabbadf",
   "metadata": {},
   "outputs": [],
   "source": [
    "fitters['(50, 60]'].summary(sort_by=\"ks_statistic\", top_n=10)"
   ]
  },
  {
   "cell_type": "code",
   "execution_count": null,
   "id": "4ac4a013-1d68-4b49-8acb-3ba399874d62",
   "metadata": {},
   "outputs": [],
   "source": [
    "DistributionValidator().validate_goodness_of_fit(\n",
    "    distribution_fitter=fitters['(50, 60]'], \n",
    "    distribution_name=\"norminvgauss\", \n",
    "    sample_proportion=0.1, \n",
    "    suptitle=\"Goodness of Fit for overall data of pitchers - Decile 60% with norminvgauss distribution\"\n",
    ")"
   ]
  },
  {
   "cell_type": "code",
   "execution_count": null,
   "id": "97b45816-286b-4d39-9927-4cbb8254fc76",
   "metadata": {},
   "outputs": [],
   "source": [
    "DistributionValidator().validate_goodness_of_fit(\n",
    "    distribution_fitter=fitters['(50, 60]'], \n",
    "    distribution_name=\"johnsonsu\", \n",
    "    sample_proportion=0.1, \n",
    "    suptitle=\"Goodness of Fit for overall data of pitchers - Decile 60% with johnsonsu distribution\"\n",
    ")"
   ]
  },
  {
   "cell_type": "code",
   "execution_count": null,
   "id": "ca454682-8a05-45ec-8f37-94fab114ffd4",
   "metadata": {},
   "outputs": [],
   "source": [
    "DistributionValidator().validate_goodness_of_fit(\n",
    "    distribution_fitter=fitters['(50, 60]'], \n",
    "    distribution_name=\"exponnorm\", \n",
    "    sample_proportion=0.1, \n",
    "    suptitle=\"Goodness of Fit for overall data of pitchers - Decile 60% with exponnorm distribution\"\n",
    ")"
   ]
  },
  {
   "cell_type": "markdown",
   "id": "72f2805a-c880-428f-8d8b-257eaa6fc50e",
   "metadata": {},
   "source": [
    "##### **Decile 70%**"
   ]
  },
  {
   "cell_type": "code",
   "execution_count": null,
   "id": "aa5d97d9-06c5-46cb-b2bb-c80c404bfac1",
   "metadata": {},
   "outputs": [],
   "source": [
    "fitters['(60, 70]'].summary(sort_by=\"ks_statistic\", top_n=10)"
   ]
  },
  {
   "cell_type": "code",
   "execution_count": null,
   "id": "1baa17ef-3a52-4a38-85c2-a0938d7522e2",
   "metadata": {},
   "outputs": [],
   "source": [
    "DistributionValidator().validate_goodness_of_fit(\n",
    "    distribution_fitter=fitters['(60, 70]'], \n",
    "    distribution_name=\"johnsonsu\", \n",
    "    sample_proportion=0.1, \n",
    "    suptitle=\"Goodness of Fit for overall data of pitchers - Decile 70% with johnsonsu distribution\"\n",
    ")"
   ]
  },
  {
   "cell_type": "code",
   "execution_count": null,
   "id": "985570cd-5597-431f-818d-2b7bb100c197",
   "metadata": {},
   "outputs": [],
   "source": [
    "DistributionValidator().validate_goodness_of_fit(\n",
    "    distribution_fitter=fitters['(60, 70]'], \n",
    "    distribution_name=\"norminvgauss\", \n",
    "    sample_proportion=0.1, \n",
    "    suptitle=\"Goodness of Fit for overall data of pitchers - Decile 70% with norminvgauss distribution\"\n",
    ")"
   ]
  },
  {
   "cell_type": "code",
   "execution_count": null,
   "id": "49b1f9c2-40a8-43ef-922f-ad3120848dfa",
   "metadata": {},
   "outputs": [],
   "source": [
    "DistributionValidator().validate_goodness_of_fit(\n",
    "    distribution_fitter=fitters['(60, 70]'], \n",
    "    distribution_name=\"genhyperbolic\", \n",
    "    sample_proportion=0.1, \n",
    "    suptitle=\"Goodness of Fit for overall data of pitchers - Decile 70% with genhyperbolic distribution\"\n",
    ")"
   ]
  },
  {
   "cell_type": "code",
   "execution_count": null,
   "id": "5cccb930-d89c-4e70-af53-43c769fe7e97",
   "metadata": {},
   "outputs": [],
   "source": [
    "DistributionValidator().validate_goodness_of_fit(\n",
    "    distribution_fitter=fitters['(60, 70]'], \n",
    "    distribution_name=\"exponnorm\", \n",
    "    sample_proportion=0.1, \n",
    "    suptitle=\"Goodness of Fit for overall data of pitchers - Decile 70% with exponnorm distribution\"\n",
    ")"
   ]
  },
  {
   "cell_type": "markdown",
   "id": "405ff37c-97fc-4f90-a2a5-722314dde3a1",
   "metadata": {},
   "source": [
    "##### **Decile 80%**"
   ]
  },
  {
   "cell_type": "code",
   "execution_count": null,
   "id": "61103e47-ffef-422f-bdde-d7798b9bdf4a",
   "metadata": {},
   "outputs": [],
   "source": [
    "fitters['(70, 80]'].summary(sort_by=\"ks_statistic\", top_n=10)"
   ]
  },
  {
   "cell_type": "code",
   "execution_count": null,
   "id": "c1be090d-d0ee-41f5-93a5-ae5318bab8ff",
   "metadata": {},
   "outputs": [],
   "source": [
    "DistributionValidator().validate_goodness_of_fit(\n",
    "    distribution_fitter=fitters['(70, 80]'], \n",
    "    distribution_name=\"genhyperbolic\", \n",
    "    sample_proportion=0.1, \n",
    "    suptitle=\"Goodness of Fit for overall data of pitchers - Decile 80% with genhyperbolic distribution\"\n",
    ")"
   ]
  },
  {
   "cell_type": "code",
   "execution_count": null,
   "id": "2c6b923d-69d4-4fbf-a545-fdee2d4cc21c",
   "metadata": {},
   "outputs": [],
   "source": [
    "DistributionValidator().validate_goodness_of_fit(\n",
    "    distribution_fitter=fitters['(70, 80]'], \n",
    "    distribution_name=\"johnsonsu\", \n",
    "    sample_proportion=0.1, \n",
    "    suptitle=\"Goodness of Fit for overall data of pitchers - Decile 80% with johnsonsu distribution\"\n",
    ")"
   ]
  },
  {
   "cell_type": "code",
   "execution_count": null,
   "id": "cbf4265a-d62e-4660-9e05-1eead637c1d8",
   "metadata": {},
   "outputs": [],
   "source": [
    "DistributionValidator().validate_goodness_of_fit(\n",
    "    distribution_fitter=fitters['(70, 80]'], \n",
    "    distribution_name=\"norminvgauss\", \n",
    "    sample_proportion=0.1, \n",
    "    suptitle=\"Goodness of Fit for overall data of pitchers - Decile 80% with norminvgauss distribution\"\n",
    ")"
   ]
  },
  {
   "cell_type": "code",
   "execution_count": null,
   "id": "2c5bbd0b-770b-40ef-a16f-f274a4a4b168",
   "metadata": {},
   "outputs": [],
   "source": [
    "DistributionValidator().validate_goodness_of_fit(\n",
    "    distribution_fitter=fitters['(70, 80]'], \n",
    "    distribution_name=\"exponnorm\", \n",
    "    sample_proportion=0.1, \n",
    "    suptitle=\"Goodness of Fit for overall data of pitchers - Decile 80% with exponnorm distribution\"\n",
    ")"
   ]
  },
  {
   "cell_type": "markdown",
   "id": "c845f3bf-60aa-46a3-85fa-1c961ac6e65e",
   "metadata": {},
   "source": [
    "##### **Decile 90%**"
   ]
  },
  {
   "cell_type": "code",
   "execution_count": null,
   "id": "ca98840b-2676-4227-89f7-640cc7bc8e2c",
   "metadata": {},
   "outputs": [],
   "source": [
    "fitters['(80, 90]'].summary(sort_by=\"ks_statistic\", top_n=10)"
   ]
  },
  {
   "cell_type": "code",
   "execution_count": null,
   "id": "9629c1bf-d291-4e17-9a23-552aafc40778",
   "metadata": {},
   "outputs": [],
   "source": [
    "DistributionValidator().validate_goodness_of_fit(\n",
    "    distribution_fitter=fitters['(80, 90]'], \n",
    "    distribution_name=\"norminvgauss\", \n",
    "    sample_proportion=0.1, \n",
    "    suptitle=\"Goodness of Fit for overall data of pitchers - Decile 90% with norminvgauss distribution\"\n",
    ")"
   ]
  },
  {
   "cell_type": "code",
   "execution_count": null,
   "id": "5c067b27-7e83-400e-a5ef-fbe3284be953",
   "metadata": {},
   "outputs": [],
   "source": [
    "DistributionValidator().validate_goodness_of_fit(\n",
    "    distribution_fitter=fitters['(80, 90]'], \n",
    "    distribution_name=\"johnsonsu\", \n",
    "    sample_proportion=0.1, \n",
    "    suptitle=\"Goodness of Fit for overall data of pitchers - Decile 90% with johnsonsu distribution\"\n",
    ")"
   ]
  },
  {
   "cell_type": "code",
   "execution_count": null,
   "id": "ed6305fd-660c-46b4-829d-8756438fda6d",
   "metadata": {},
   "outputs": [],
   "source": [
    "DistributionValidator().validate_goodness_of_fit(\n",
    "    distribution_fitter=fitters['(80, 90]'], \n",
    "    distribution_name=\"exponnorm\", \n",
    "    sample_proportion=0.1, \n",
    "    suptitle=\"Goodness of Fit for overall data of pitchers - Decile 90% with exponnorm distribution\"\n",
    ")"
   ]
  },
  {
   "cell_type": "markdown",
   "id": "230831bd-ae4e-4aea-b030-d242513b9e9c",
   "metadata": {},
   "source": [
    "##### **Decile 100%**"
   ]
  },
  {
   "cell_type": "code",
   "execution_count": null,
   "id": "a56ceb35-cdd9-41ed-aedf-37909758713a",
   "metadata": {},
   "outputs": [],
   "source": [
    "fitters['(90, 100]'].summary(sort_by=\"ks_statistic\", top_n=10)"
   ]
  },
  {
   "cell_type": "code",
   "execution_count": null,
   "id": "23651e62-0fdd-4d7f-995c-944674e93e8d",
   "metadata": {},
   "outputs": [],
   "source": [
    "DistributionValidator().validate_goodness_of_fit(\n",
    "    distribution_fitter=fitters['(90, 100]'], \n",
    "    distribution_name=\"exponnorm\", \n",
    "    sample_proportion=0.1, \n",
    "    suptitle=\"Goodness of Fit for overall data of pitchers - Decile 100% with exponnorm distribution\"\n",
    ")"
   ]
  },
  {
   "cell_type": "markdown",
   "id": "0bb4c315-3177-48ef-988f-254b93dbf8c8",
   "metadata": {},
   "source": [
    "#### Pitchers dataframe for distributions"
   ]
  },
  {
   "cell_type": "code",
   "execution_count": null,
   "id": "52aaca43-17e1-4ce4-ac67-fb4f5d09c190",
   "metadata": {},
   "outputs": [],
   "source": [
    "pitchers_distributions_df = pitchers_df\\\n",
    ".assign(\n",
    "    row_number=pitchers_df\\\n",
    "    .groupby('player_info__player_id')['game_info__date']\\\n",
    "    .rank(method='first', ascending = False).astype(int)\n",
    ").query(\"row_number == 1\")[[\"player_info__player_id\", \"decile_group\"]]"
   ]
  },
  {
   "cell_type": "code",
   "execution_count": null,
   "id": "c5b2cdd1-47ab-490d-87e7-b391107d98c4",
   "metadata": {},
   "outputs": [],
   "source": [
    "deciles_distributions = pd.DataFrame(\n",
    "    [\n",
    "        {\"decile_group\": \"(0, 10]\", \"decile_distribution\": \"exponnorm\", \"decile_parameters\": str(fitters[\"(0, 10]\"].get_distribution_parameters(\"exponnorm\"))},\n",
    "        {\"decile_group\": \"(10, 20]\", \"decile_distribution\": \"exponnorm\", \"decile_parameters\": str(fitters[\"(10, 20]\"].get_distribution_parameters(\"exponnorm\"))}, \n",
    "        {\"decile_group\": \"(20, 30]\", \"decile_distribution\": \"exponnorm\", \"decile_parameters\": str(fitters[\"(20, 30]\"].get_distribution_parameters(\"exponnorm\"))},\n",
    "        {\"decile_group\": \"(30, 40]\", \"decile_distribution\": \"exponnorm\", \"decile_parameters\": str(fitters[\"(30, 40]\"].get_distribution_parameters(\"exponnorm\"))},\n",
    "        {\"decile_group\": \"(40, 50]\", \"decile_distribution\": \"exponnorm\", \"decile_parameters\": str(fitters[\"(40, 50]\"].get_distribution_parameters(\"exponnorm\"))},\n",
    "        {\"decile_group\": \"(50, 60]\", \"decile_distribution\": \"exponnorm\", \"decile_parameters\": str(fitters[\"(50, 60]\"].get_distribution_parameters(\"exponnorm\"))},\n",
    "        {\"decile_group\": \"(60, 70]\", \"decile_distribution\": \"genhyperbolic\", \"decile_parameters\": str(fitters[\"(60, 70]\"].get_distribution_parameters(\"exponnorm\"))},\n",
    "        {\"decile_group\": \"(70, 80]\", \"decile_distribution\": \"genhyperbolic\", \"decile_parameters\": str(fitters[\"(70, 80]\"].get_distribution_parameters(\"exponnorm\"))},\n",
    "        {\"decile_group\": \"(80, 90]\", \"decile_distribution\": \"norminvgauss\", \"decile_parameters\": str(fitters[\"(80, 90]\"].get_distribution_parameters(\"exponnorm\"))},\n",
    "        {\"decile_group\": \"(90, 100]\", \"decile_distribution\": \"exponnorm\", \"decile_parameters\": str(fitters[\"(90, 100]\"].get_distribution_parameters(\"exponnorm\"))},\n",
    "    ]\n",
    ")"
   ]
  },
  {
   "cell_type": "code",
   "execution_count": null,
   "id": "8fd03cff-f72f-4a46-a8b9-29a28e8afa05",
   "metadata": {},
   "outputs": [],
   "source": [
    "pitchers_distributions_df = pitchers_distributions_df.assign(\n",
    "    general_distribution=\"exponnorm\",\n",
    "    general_parameters=str(pitchers_distribution_fitter.get_distribution_parameters(\"exponnorm\"))\n",
    ").merge(right=deciles_distributions)"
   ]
  },
  {
   "cell_type": "code",
   "execution_count": null,
   "id": "d03b71d0-0cae-4035-8ef6-f93816e07635",
   "metadata": {},
   "outputs": [],
   "source": [
    "pitchers_distributions_df.size"
   ]
  }
 ],
 "metadata": {
  "kernelspec": {
   "display_name": "Python 3 (ipykernel)",
   "language": "python",
   "name": "python3"
  },
  "language_info": {
   "codemirror_mode": {
    "name": "ipython",
    "version": 3
   },
   "file_extension": ".py",
   "mimetype": "text/x-python",
   "name": "python",
   "nbconvert_exporter": "python",
   "pygments_lexer": "ipython3",
   "version": "3.9.18"
  }
 },
 "nbformat": 4,
 "nbformat_minor": 5
}
